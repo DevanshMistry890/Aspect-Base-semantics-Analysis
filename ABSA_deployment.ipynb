{
  "nbformat": 4,
  "nbformat_minor": 0,
  "metadata": {
    "colab": {
      "provenance": []
    },
    "kernelspec": {
      "name": "python3",
      "display_name": "Python 3"
    },
    "language_info": {
      "name": "python"
    },
    "gpuClass": "standard"
  },
  "cells": [
    {
      "cell_type": "markdown",
      "source": [
        "# Aspect term extraction and sentiment classification"
      ],
      "metadata": {
        "id": "lCPYVEaPR4FP"
      }
    },
    {
      "cell_type": "markdown",
      "source": [
        "This Notebook is created and Run in colab by Devansh Mistry. Deployed on Gradio."
      ],
      "metadata": {
        "id": "0JPLnoAATFU5"
      }
    },
    {
      "cell_type": "markdown",
      "source": [
        "This Notebook is using [PyABSA](https://https://github.com/yangheng95/PyABSA) library, Citation"
      ],
      "metadata": {
        "id": "IqWIEfnPR8Aw"
      }
    },
    {
      "cell_type": "code",
      "source": [
        "@article{YangL22,\n",
        "  author    = {Heng Yang and\n",
        "               Ke Li},\n",
        "  title     = {PyABSA: Open Framework for Aspect-based Sentiment Analysis},\n",
        "  journal   = {CoRR},\n",
        "  volume    = {abs/2208.01368},\n",
        "  year      = {2022},\n",
        "  url       = {https://doi.org/10.48550/arXiv.2208.01368},\n",
        "  doi       = {10.48550/arXiv.2208.01368},\n",
        "  eprinttype = {arXiv},\n",
        "  eprint    = {2208.01368},\n",
        "  timestamp = {Tue, 08 Nov 2022 21:46:32 +0100},\n",
        "  biburl    = {https://dblp.org/rec/journals/corr/abs-2208-01368.bib},\n",
        "  bibsource = {dblp computer science bibliography, https://dblp.org}\n",
        "}"
      ],
      "metadata": {
        "id": "3hCB7cuRSpVb"
      },
      "execution_count": null,
      "outputs": []
    },
    {
      "cell_type": "code",
      "execution_count": 1,
      "metadata": {
        "id": "9Ym1udq8JWzp",
        "colab": {
          "base_uri": "https://localhost:8080/",
          "height": 1000
        },
        "outputId": "812ce420-b1d7-4441-bfde-da4fe3b443b4"
      },
      "outputs": [
        {
          "output_type": "stream",
          "name": "stdout",
          "text": [
            "Looking in indexes: https://pypi.org/simple, https://us-python.pkg.dev/colab-wheels/public/simple/\n",
            "Collecting pyabsa==1.16.27\n",
            "  Downloading PyABSA-1.16.27-py3-none-any.whl (251 kB)\n",
            "\u001b[2K     \u001b[90m━━━━━━━━━━━━━━━━━━━━━━━━━━━━━━━━━━━━━━━\u001b[0m \u001b[32m251.2/251.2 KB\u001b[0m \u001b[31m9.5 MB/s\u001b[0m eta \u001b[36m0:00:00\u001b[0m\n",
            "\u001b[?25hRequirement already satisfied: termcolor in /usr/local/lib/python3.8/dist-packages (from pyabsa==1.16.27) (2.2.0)\n",
            "Requirement already satisfied: spacy in /usr/local/lib/python3.8/dist-packages (from pyabsa==1.16.27) (3.4.4)\n",
            "Collecting autocuda>=0.11\n",
            "  Downloading autocuda-0.16-py3-none-any.whl (5.1 kB)\n",
            "Collecting findfile>=1.7.9.8\n",
            "  Downloading findfile-2.0.0-py3-none-any.whl (9.3 kB)\n",
            "Requirement already satisfied: networkx in /usr/local/lib/python3.8/dist-packages (from pyabsa==1.16.27) (3.0)\n",
            "Requirement already satisfied: tqdm in /usr/local/lib/python3.8/dist-packages (from pyabsa==1.16.27) (4.64.1)\n",
            "Collecting gitpython\n",
            "  Downloading GitPython-3.1.30-py3-none-any.whl (184 kB)\n",
            "\u001b[2K     \u001b[90m━━━━━━━━━━━━━━━━━━━━━━━━━━━━━━━━━━━━━━\u001b[0m \u001b[32m184.0/184.0 KB\u001b[0m \u001b[31m24.1 MB/s\u001b[0m eta \u001b[36m0:00:00\u001b[0m\n",
            "\u001b[?25hCollecting sentencepiece\n",
            "  Downloading sentencepiece-0.1.97-cp38-cp38-manylinux_2_17_x86_64.manylinux2014_x86_64.whl (1.3 MB)\n",
            "\u001b[2K     \u001b[90m━━━━━━━━━━━━━━━━━━━━━━━━━━━━━━━━━━━━━━━━\u001b[0m \u001b[32m1.3/1.3 MB\u001b[0m \u001b[31m44.9 MB/s\u001b[0m eta \u001b[36m0:00:00\u001b[0m\n",
            "\u001b[?25hRequirement already satisfied: gdown>=4.4.0 in /usr/local/lib/python3.8/dist-packages (from pyabsa==1.16.27) (4.4.0)\n",
            "Requirement already satisfied: typing-extensions in /usr/local/lib/python3.8/dist-packages (from pyabsa==1.16.27) (4.4.0)\n",
            "Collecting transformers>4.20.0\n",
            "  Downloading transformers-4.26.1-py3-none-any.whl (6.3 MB)\n",
            "\u001b[2K     \u001b[90m━━━━━━━━━━━━━━━━━━━━━━━━━━━━━━━━━━━━━━━━\u001b[0m \u001b[32m6.3/6.3 MB\u001b[0m \u001b[31m66.0 MB/s\u001b[0m eta \u001b[36m0:00:00\u001b[0m\n",
            "\u001b[?25hRequirement already satisfied: torch>1.0.0 in /usr/local/lib/python3.8/dist-packages (from pyabsa==1.16.27) (1.13.1+cu116)\n",
            "Collecting update-checker\n",
            "  Downloading update_checker-0.18.0-py3-none-any.whl (7.0 kB)\n",
            "Collecting pytorch-warmup\n",
            "  Downloading pytorch_warmup-0.1.1-py3-none-any.whl (6.6 kB)\n",
            "Collecting boostaug>=2.2.5\n",
            "  Downloading boostaug-2.3.5-py3-none-any.whl (16 kB)\n",
            "Collecting metric-visualizer>=0.6.3\n",
            "  Downloading metric_visualizer-0.8.8-py3-none-any.whl (29 kB)\n",
            "Collecting seqeval\n",
            "  Downloading seqeval-1.2.2.tar.gz (43 kB)\n",
            "\u001b[2K     \u001b[90m━━━━━━━━━━━━━━━━━━━━━━━━━━━━━━━━━━━━━━━━\u001b[0m \u001b[32m43.6/43.6 KB\u001b[0m \u001b[31m4.4 MB/s\u001b[0m eta \u001b[36m0:00:00\u001b[0m\n",
            "\u001b[?25h  Preparing metadata (setup.py) ... \u001b[?25l\u001b[?25hdone\n",
            "Collecting boostaug>=2.2.5\n",
            "  Downloading boostaug-2.3.4-py3-none-any.whl (16 kB)\n",
            "  Downloading boostaug-2.3.3-py3-none-any.whl (11 kB)\n",
            "  Downloading boostaug-2.3.2-py3-none-any.whl (11 kB)\n",
            "  Downloading boostaug-2.3.1-py3-none-any.whl (11 kB)\n",
            "  Downloading boostaug-2.3.0-py3-none-any.whl (11 kB)\n",
            "  Downloading boostaug-2.2.5-py3-none-any.whl (10 kB)\n",
            "Requirement already satisfied: six in /usr/local/lib/python3.8/dist-packages (from gdown>=4.4.0->pyabsa==1.16.27) (1.15.0)\n",
            "Requirement already satisfied: beautifulsoup4 in /usr/local/lib/python3.8/dist-packages (from gdown>=4.4.0->pyabsa==1.16.27) (4.6.3)\n",
            "Requirement already satisfied: requests[socks] in /usr/local/lib/python3.8/dist-packages (from gdown>=4.4.0->pyabsa==1.16.27) (2.25.1)\n",
            "Requirement already satisfied: filelock in /usr/local/lib/python3.8/dist-packages (from gdown>=4.4.0->pyabsa==1.16.27) (3.9.0)\n",
            "Requirement already satisfied: click in /usr/local/lib/python3.8/dist-packages (from metric-visualizer>=0.6.3->pyabsa==1.16.27) (7.1.2)\n",
            "Collecting xlsxwriter\n",
            "  Downloading XlsxWriter-3.0.8-py3-none-any.whl (152 kB)\n",
            "\u001b[2K     \u001b[90m━━━━━━━━━━━━━━━━━━━━━━━━━━━━━━━━━━━━━━\u001b[0m \u001b[32m152.8/152.8 KB\u001b[0m \u001b[31m20.8 MB/s\u001b[0m eta \u001b[36m0:00:00\u001b[0m\n",
            "\u001b[?25hCollecting matplotlib>=3.6.3\n",
            "  Downloading matplotlib-3.6.3-cp38-cp38-manylinux_2_12_x86_64.manylinux2010_x86_64.whl (9.4 MB)\n",
            "\u001b[2K     \u001b[90m━━━━━━━━━━━━━━━━━━━━━━━━━━━━━━━━━━━━━━━━\u001b[0m \u001b[32m9.4/9.4 MB\u001b[0m \u001b[31m86.9 MB/s\u001b[0m eta \u001b[36m0:00:00\u001b[0m\n",
            "\u001b[?25hCollecting tikzplotlib\n",
            "  Downloading tikzplotlib-0.10.1-py3-none-any.whl (54 kB)\n",
            "\u001b[2K     \u001b[90m━━━━━━━━━━━━━━━━━━━━━━━━━━━━━━━━━━━━━━━━\u001b[0m \u001b[32m54.2/54.2 KB\u001b[0m \u001b[31m7.4 MB/s\u001b[0m eta \u001b[36m0:00:00\u001b[0m\n",
            "\u001b[?25hRequirement already satisfied: openpyxl in /usr/local/lib/python3.8/dist-packages (from metric-visualizer>=0.6.3->pyabsa==1.16.27) (3.0.10)\n",
            "Requirement already satisfied: pandas in /usr/local/lib/python3.8/dist-packages (from metric-visualizer>=0.6.3->pyabsa==1.16.27) (1.3.5)\n",
            "Requirement already satisfied: natsort in /usr/local/lib/python3.8/dist-packages (from metric-visualizer>=0.6.3->pyabsa==1.16.27) (5.5.0)\n",
            "Requirement already satisfied: numpy in /usr/local/lib/python3.8/dist-packages (from metric-visualizer>=0.6.3->pyabsa==1.16.27) (1.21.6)\n",
            "Requirement already satisfied: tabulate in /usr/local/lib/python3.8/dist-packages (from metric-visualizer>=0.6.3->pyabsa==1.16.27) (0.8.10)\n",
            "Requirement already satisfied: scipy in /usr/local/lib/python3.8/dist-packages (from metric-visualizer>=0.6.3->pyabsa==1.16.27) (1.7.3)\n",
            "Collecting huggingface-hub<1.0,>=0.11.0\n",
            "  Downloading huggingface_hub-0.12.0-py3-none-any.whl (190 kB)\n",
            "\u001b[2K     \u001b[90m━━━━━━━━━━━━━━━━━━━━━━━━━━━━━━━━━━━━━━\u001b[0m \u001b[32m190.3/190.3 KB\u001b[0m \u001b[31m23.1 MB/s\u001b[0m eta \u001b[36m0:00:00\u001b[0m\n",
            "\u001b[?25hRequirement already satisfied: packaging>=20.0 in /usr/local/lib/python3.8/dist-packages (from transformers>4.20.0->pyabsa==1.16.27) (23.0)\n",
            "Requirement already satisfied: pyyaml>=5.1 in /usr/local/lib/python3.8/dist-packages (from transformers>4.20.0->pyabsa==1.16.27) (6.0)\n",
            "Requirement already satisfied: regex!=2019.12.17 in /usr/local/lib/python3.8/dist-packages (from transformers>4.20.0->pyabsa==1.16.27) (2022.6.2)\n",
            "Collecting tokenizers!=0.11.3,<0.14,>=0.11.1\n",
            "  Downloading tokenizers-0.13.2-cp38-cp38-manylinux_2_17_x86_64.manylinux2014_x86_64.whl (7.6 MB)\n",
            "\u001b[2K     \u001b[90m━━━━━━━━━━━━━━━━━━━━━━━━━━━━━━━━━━━━━━━━\u001b[0m \u001b[32m7.6/7.6 MB\u001b[0m \u001b[31m21.5 MB/s\u001b[0m eta \u001b[36m0:00:00\u001b[0m\n",
            "\u001b[?25hCollecting gitdb<5,>=4.0.1\n",
            "  Downloading gitdb-4.0.10-py3-none-any.whl (62 kB)\n",
            "\u001b[2K     \u001b[90m━━━━━━━━━━━━━━━━━━━━━━━━━━━━━━━━━━━━━━━━\u001b[0m \u001b[32m62.7/62.7 KB\u001b[0m \u001b[31m8.6 MB/s\u001b[0m eta \u001b[36m0:00:00\u001b[0m\n",
            "\u001b[?25hRequirement already satisfied: scikit-learn>=0.21.3 in /usr/local/lib/python3.8/dist-packages (from seqeval->pyabsa==1.16.27) (1.0.2)\n",
            "Requirement already satisfied: preshed<3.1.0,>=3.0.2 in /usr/local/lib/python3.8/dist-packages (from spacy->pyabsa==1.16.27) (3.0.8)\n",
            "Requirement already satisfied: murmurhash<1.1.0,>=0.28.0 in /usr/local/lib/python3.8/dist-packages (from spacy->pyabsa==1.16.27) (1.0.9)\n",
            "Requirement already satisfied: thinc<8.2.0,>=8.1.0 in /usr/local/lib/python3.8/dist-packages (from spacy->pyabsa==1.16.27) (8.1.7)\n",
            "Requirement already satisfied: jinja2 in /usr/local/lib/python3.8/dist-packages (from spacy->pyabsa==1.16.27) (2.11.3)\n",
            "Requirement already satisfied: wasabi<1.1.0,>=0.9.1 in /usr/local/lib/python3.8/dist-packages (from spacy->pyabsa==1.16.27) (0.10.1)\n",
            "Requirement already satisfied: typer<0.8.0,>=0.3.0 in /usr/local/lib/python3.8/dist-packages (from spacy->pyabsa==1.16.27) (0.7.0)\n",
            "Requirement already satisfied: cymem<2.1.0,>=2.0.2 in /usr/local/lib/python3.8/dist-packages (from spacy->pyabsa==1.16.27) (2.0.7)\n",
            "Requirement already satisfied: langcodes<4.0.0,>=3.2.0 in /usr/local/lib/python3.8/dist-packages (from spacy->pyabsa==1.16.27) (3.3.0)\n",
            "Requirement already satisfied: srsly<3.0.0,>=2.4.3 in /usr/local/lib/python3.8/dist-packages (from spacy->pyabsa==1.16.27) (2.4.5)\n",
            "Requirement already satisfied: spacy-loggers<2.0.0,>=1.0.0 in /usr/local/lib/python3.8/dist-packages (from spacy->pyabsa==1.16.27) (1.0.4)\n",
            "Requirement already satisfied: pathy>=0.3.5 in /usr/local/lib/python3.8/dist-packages (from spacy->pyabsa==1.16.27) (0.10.1)\n",
            "Requirement already satisfied: smart-open<7.0.0,>=5.2.1 in /usr/local/lib/python3.8/dist-packages (from spacy->pyabsa==1.16.27) (6.3.0)\n",
            "Requirement already satisfied: pydantic!=1.8,!=1.8.1,<1.11.0,>=1.7.4 in /usr/local/lib/python3.8/dist-packages (from spacy->pyabsa==1.16.27) (1.10.4)\n",
            "Requirement already satisfied: catalogue<2.1.0,>=2.0.6 in /usr/local/lib/python3.8/dist-packages (from spacy->pyabsa==1.16.27) (2.0.8)\n",
            "Requirement already satisfied: setuptools in /usr/local/lib/python3.8/dist-packages (from spacy->pyabsa==1.16.27) (57.4.0)\n",
            "Requirement already satisfied: spacy-legacy<3.1.0,>=3.0.10 in /usr/local/lib/python3.8/dist-packages (from spacy->pyabsa==1.16.27) (3.0.12)\n",
            "Collecting smmap<6,>=3.0.1\n",
            "  Downloading smmap-5.0.0-py3-none-any.whl (24 kB)\n",
            "Requirement already satisfied: python-dateutil>=2.7 in /usr/local/lib/python3.8/dist-packages (from matplotlib>=3.6.3->metric-visualizer>=0.6.3->pyabsa==1.16.27) (2.8.2)\n",
            "Collecting fonttools>=4.22.0\n",
            "  Downloading fonttools-4.38.0-py3-none-any.whl (965 kB)\n",
            "\u001b[2K     \u001b[90m━━━━━━━━━━━━━━━━━━━━━━━━━━━━━━━━━━━━━━\u001b[0m \u001b[32m965.4/965.4 KB\u001b[0m \u001b[31m55.8 MB/s\u001b[0m eta \u001b[36m0:00:00\u001b[0m\n",
            "\u001b[?25hCollecting contourpy>=1.0.1\n",
            "  Downloading contourpy-1.0.7-cp38-cp38-manylinux_2_17_x86_64.manylinux2014_x86_64.whl (300 kB)\n",
            "\u001b[2K     \u001b[90m━━━━━━━━━━━━━━━━━━━━━━━━━━━━━━━━━━━━━━\u001b[0m \u001b[32m300.0/300.0 KB\u001b[0m \u001b[31m31.2 MB/s\u001b[0m eta \u001b[36m0:00:00\u001b[0m\n",
            "\u001b[?25hRequirement already satisfied: pillow>=6.2.0 in /usr/local/lib/python3.8/dist-packages (from matplotlib>=3.6.3->metric-visualizer>=0.6.3->pyabsa==1.16.27) (7.1.2)\n",
            "Requirement already satisfied: kiwisolver>=1.0.1 in /usr/local/lib/python3.8/dist-packages (from matplotlib>=3.6.3->metric-visualizer>=0.6.3->pyabsa==1.16.27) (1.4.4)\n",
            "Requirement already satisfied: cycler>=0.10 in /usr/local/lib/python3.8/dist-packages (from matplotlib>=3.6.3->metric-visualizer>=0.6.3->pyabsa==1.16.27) (0.11.0)\n",
            "Requirement already satisfied: pyparsing>=2.2.1 in /usr/local/lib/python3.8/dist-packages (from matplotlib>=3.6.3->metric-visualizer>=0.6.3->pyabsa==1.16.27) (3.0.9)\n",
            "Requirement already satisfied: certifi>=2017.4.17 in /usr/local/lib/python3.8/dist-packages (from requests[socks]->gdown>=4.4.0->pyabsa==1.16.27) (2022.12.7)\n",
            "Requirement already satisfied: urllib3<1.27,>=1.21.1 in /usr/local/lib/python3.8/dist-packages (from requests[socks]->gdown>=4.4.0->pyabsa==1.16.27) (1.24.3)\n",
            "Requirement already satisfied: idna<3,>=2.5 in /usr/local/lib/python3.8/dist-packages (from requests[socks]->gdown>=4.4.0->pyabsa==1.16.27) (2.10)\n",
            "Requirement already satisfied: chardet<5,>=3.0.2 in /usr/local/lib/python3.8/dist-packages (from requests[socks]->gdown>=4.4.0->pyabsa==1.16.27) (4.0.0)\n",
            "Requirement already satisfied: threadpoolctl>=2.0.0 in /usr/local/lib/python3.8/dist-packages (from scikit-learn>=0.21.3->seqeval->pyabsa==1.16.27) (3.1.0)\n",
            "Requirement already satisfied: joblib>=0.11 in /usr/local/lib/python3.8/dist-packages (from scikit-learn>=0.21.3->seqeval->pyabsa==1.16.27) (1.2.0)\n",
            "Requirement already satisfied: blis<0.8.0,>=0.7.8 in /usr/local/lib/python3.8/dist-packages (from thinc<8.2.0,>=8.1.0->spacy->pyabsa==1.16.27) (0.7.9)\n",
            "Requirement already satisfied: confection<1.0.0,>=0.0.1 in /usr/local/lib/python3.8/dist-packages (from thinc<8.2.0,>=8.1.0->spacy->pyabsa==1.16.27) (0.0.4)\n",
            "Requirement already satisfied: MarkupSafe>=0.23 in /usr/local/lib/python3.8/dist-packages (from jinja2->spacy->pyabsa==1.16.27) (2.0.1)\n",
            "Requirement already satisfied: et-xmlfile in /usr/local/lib/python3.8/dist-packages (from openpyxl->metric-visualizer>=0.6.3->pyabsa==1.16.27) (1.1.0)\n",
            "Requirement already satisfied: pytz>=2017.3 in /usr/local/lib/python3.8/dist-packages (from pandas->metric-visualizer>=0.6.3->pyabsa==1.16.27) (2022.7.1)\n",
            "Requirement already satisfied: PySocks!=1.5.7,>=1.5.6 in /usr/local/lib/python3.8/dist-packages (from requests[socks]->gdown>=4.4.0->pyabsa==1.16.27) (1.7.1)\n",
            "Collecting webcolors\n",
            "  Downloading webcolors-1.12-py3-none-any.whl (9.9 kB)\n",
            "Building wheels for collected packages: seqeval\n",
            "  Building wheel for seqeval (setup.py) ... \u001b[?25l\u001b[?25hdone\n",
            "  Created wheel for seqeval: filename=seqeval-1.2.2-py3-none-any.whl size=16179 sha256=543c1fab3a8e89ead47a4015162cb65cf8cf9b9c3191d36d67e1246ce1f11035\n",
            "  Stored in directory: /root/.cache/pip/wheels/ad/5c/ba/05fa33fa5855777b7d686e843ec07452f22a66a138e290e732\n",
            "Successfully built seqeval\n",
            "Installing collected packages: tokenizers, sentencepiece, xlsxwriter, webcolors, smmap, fonttools, findfile, contourpy, autocuda, update-checker, pytorch-warmup, matplotlib, huggingface-hub, gitdb, transformers, tikzplotlib, seqeval, gitpython, metric-visualizer, boostaug, pyabsa\n",
            "  Attempting uninstall: matplotlib\n",
            "    Found existing installation: matplotlib 3.2.2\n",
            "    Uninstalling matplotlib-3.2.2:\n",
            "      Successfully uninstalled matplotlib-3.2.2\n",
            "Successfully installed autocuda-0.16 boostaug-2.2.5 contourpy-1.0.7 findfile-2.0.0 fonttools-4.38.0 gitdb-4.0.10 gitpython-3.1.30 huggingface-hub-0.12.0 matplotlib-3.6.3 metric-visualizer-0.8.8 pyabsa-1.16.27 pytorch-warmup-0.1.1 sentencepiece-0.1.97 seqeval-1.2.2 smmap-5.0.0 tikzplotlib-0.10.1 tokenizers-0.13.2 transformers-4.26.1 update-checker-0.18.0 webcolors-1.12 xlsxwriter-3.0.8\n"
          ]
        },
        {
          "output_type": "display_data",
          "data": {
            "application/vnd.colab-display-data+json": {
              "pip_warning": {
                "packages": [
                  "matplotlib",
                  "mpl_toolkits"
                ]
              }
            }
          },
          "metadata": {}
        }
      ],
      "source": [
        "! pip install pyabsa==1.16.27 "
      ]
    },
    {
      "cell_type": "code",
      "source": [
        "from pyabsa import available_checkpoints\n",
        "checkpoint_map = available_checkpoints('atepc', show_ckpts=True)"
      ],
      "metadata": {
        "colab": {
          "base_uri": "https://localhost:8080/"
        },
        "id": "92jev5WDJ_o2",
        "outputId": "3185ac3d-7749-45cd-ffec-7e73f1f7ee65"
      },
      "execution_count": 1,
      "outputs": [
        {
          "output_type": "stream",
          "name": "stdout",
          "text": [
            "No CUDA GPU found in your device\n"
          ]
        },
        {
          "output_type": "stream",
          "name": "stderr",
          "text": [
            "/usr/local/lib/python3.8/dist-packages/html5lib/_trie/_base.py:3: DeprecationWarning: Using or importing the ABCs from 'collections' instead of from 'collections.abc' is deprecated since Python 3.3, and in 3.10 it will stop working\n",
            "  from collections import Mapping\n",
            "/usr/local/lib/python3.8/dist-packages/torch/cuda/__init__.py:497: UserWarning: Can't initialize NVML\n",
            "  warnings.warn(\"Can't initialize NVML\")\n"
          ]
        },
        {
          "output_type": "stream",
          "name": "stdout",
          "text": [
            "Version 1.16.27 of pyabsa is outdated. Version 2.0.27 was released Wednesday February 01, 2023.\n",
            "PyABSA INFO: The PyABSA >= 2.0.0 version contains breaking changes, if you want to use the training and inference scripts (in demos directory), please do not upgrade to the >= 2.0.0 version\n",
            "check release notes at https://github.com/yangheng95/PyABSA/blob/release/release-note.json\n",
            "********** Available atepc model checkpoints for Version:1.16.27 (this version) **********\n",
            "----------------------------------------------------------------------------------------------------\n",
            "Checkpoint Name: english\n",
            "id: \n",
            "Training Model: FAST-LCFS-ATEPC\n",
            "Training Dataset: English\n",
            "Language: English\n",
            "Description: Trained on RTX3090, this checkpoint use bert-spc in ATEPC training\n",
            "Available Version: 1.16.0+\n",
            "Checkpoint File: fast_lcf_atepc_English_cdw_apcacc_85.4_apcf1_82.53_atef1_80.19.zip\n",
            "Author: H, Yang (yangheng@m.scnu.edu.cn)\n",
            "----------------------------------------------------------------------------------------------------\n",
            "----------------------------------------------------------------------------------------------------\n",
            "Checkpoint Name: chinese\n",
            "id: \n",
            "Training Model: FAST-LCF-ATEPC\n",
            "Training Dataset: Chinese\n",
            "Language: Chinese\n",
            "Description: Trained on RTX3090 BERT-BASE-CHINESE\n",
            "Available Version: 1.16.0+\n",
            "Checkpoint File: fast_lcf_atepc_Chinese_cdw_apcacc_96.09_apcf1_95.14_atef1_83.69.zip\n",
            "Author: H, Yang (yangheng@m.scnu.edu.cn)\n",
            "----------------------------------------------------------------------------------------------------\n",
            "----------------------------------------------------------------------------------------------------\n",
            "Checkpoint Name: multilingual\n",
            "id: \n",
            "Training Model: FAST-LCF-ATEPC\n",
            "Training Dataset: ABSADatasets.Multilingual\n",
            "Language: Multilingual\n",
            "Description: Trained on RTX3090\n",
            "Available Version: 1.16.0+\n",
            "Checkpoint File: fast_lcf_atepc_Multilingual_cdw_apcacc_86.76_apcf1_79.78_atef1_78.03.zip\n",
            "Author: H, Yang (yangheng@m.scnu.edu.cn)\n",
            "----------------------------------------------------------------------------------------------------\n",
            "----------------------------------------------------------------------------------------------------\n",
            "Checkpoint Name: multilingual-256\n",
            "id: \n",
            "Training Model: FAST-LCF-ATEPC\n",
            "Training Dataset: ABSADatasets.Multilingual\n",
            "Language: Multilingual\n",
            "Description: Trained on RTX3090\n",
            "Available Version: 1.16.0+\n",
            "Checkpoint File: fast_lcf_atepc_Multilingual_cdw_apcacc_87.09_apcf1_79.95_atef1_75.55.zip\n",
            "Author: H, Yang (yangheng@m.scnu.edu.cn)\n",
            "----------------------------------------------------------------------------------------------------\n",
            "----------------------------------------------------------------------------------------------------\n",
            "Checkpoint Name: multilingual-256-2\n",
            "id: \n",
            "Training Model: FAST-LCF-ATEPC\n",
            "Training Dataset: ABSADatasets.Multilingual\n",
            "Language: Multilingual\n",
            "Description: Trained on RTX3090\n",
            "Available Version: 1.16.0+\n",
            "Checkpoint File: fast_lcf_atepc_Multilingual_cdw_apcacc_86.68_apcf1_80.63_atef1_75.15.zip\n",
            "Author: H, Yang (yangheng@m.scnu.edu.cn)\n",
            "----------------------------------------------------------------------------------------------------\n",
            "----------------------------------------------------------------------------------------------------\n",
            "Checkpoint Name: HELP-WANTED\n",
            "id: \n",
            "Description: You can help us by sharing checkpoints (e.g. models trained on you own datasets) with community.\n",
            "Checkpoint File: PLEASE NOTE THAT THIS IS NOT A REAL CHECKPOINT!\n",
            "Available Version: \n",
            "----------------------------------------------------------------------------------------------------\n",
            "There may be some checkpoints available for early versions of PyABSA, see atepc\n"
          ]
        }
      ]
    },
    {
      "cell_type": "code",
      "source": [
        "from pyabsa import ABSADatasetList, available_checkpoints\n",
        "from pyabsa import ATEPCCheckpointManager\n",
        "\n",
        "aspect_extractor = ATEPCCheckpointManager.get_aspect_extractor(checkpoint='english',\n",
        "                                   auto_device=False  # False means load model on CPU\n",
        "                                   )"
      ],
      "metadata": {
        "id": "73WIoutjKeMa"
      },
      "execution_count": null,
      "outputs": []
    },
    {
      "cell_type": "code",
      "source": [
        "#indvidual\n",
        "examples = ['But the staff was so perfect to us, but the service was bad .',\n",
        "            ]\n",
        "inference_source = examples\n",
        "atepc_result = aspect_extractor.extract_aspect(inference_source=inference_source,  #\n",
        "                          save_result=True,\n",
        "                          print_result=True,  # print the result\n",
        "                          pred_sentiment=True,  # Predict the sentiment of extracted aspect terms\n",
        "                          )"
      ],
      "metadata": {
        "id": "M5lSA6NlJlQY"
      },
      "execution_count": null,
      "outputs": []
    },
    {
      "cell_type": "code",
      "source": [
        "inference_source = ABSADatasetList.SemEval\n",
        "atepc_result = aspect_extractor.extract_aspect(inference_source=inference_source,  #\n",
        "                          save_result=True,\n",
        "                          print_result=True,  # print the result\n",
        "                          pred_sentiment=True,  # Predict the sentiment of extracted aspect terms\n",
        "                          )"
      ],
      "metadata": {
        "id": "ns0u3KBARQHD"
      },
      "execution_count": null,
      "outputs": []
    },
    {
      "cell_type": "markdown",
      "source": [
        "\n",
        "\n",
        "---\n",
        "\n",
        "Deployment"
      ],
      "metadata": {
        "id": "7Kc86I9cRa62"
      }
    },
    {
      "cell_type": "code",
      "source": [
        "! pip install gradio"
      ],
      "metadata": {
        "id": "VayO9H_SM5hu"
      },
      "execution_count": null,
      "outputs": []
    },
    {
      "cell_type": "code",
      "source": [
        "import gradio as gr\n",
        "import pandas as pd"
      ],
      "metadata": {
        "id": "rLsqmhDAOX4T"
      },
      "execution_count": 5,
      "outputs": []
    },
    {
      "cell_type": "code",
      "source": [
        "def inference(text):\n",
        "    result = aspect_extractor.extract_aspect(inference_source=[text],\n",
        "                                             pred_sentiment=True)\n",
        "\n",
        "    result = pd.DataFrame({\n",
        "        'aspect': result[0]['aspect'],\n",
        "        'sentiment': result[0]['sentiment']\n",
        "    })\n",
        "\n",
        "    return result"
      ],
      "metadata": {
        "id": "GGIqWTWWObIr"
      },
      "execution_count": 6,
      "outputs": []
    },
    {
      "cell_type": "code",
      "source": [
        "if __name__ == '__main__':\n",
        "    iface = gr.Interface(\n",
        "        fn=inference,\n",
        "        inputs=[\"text\"],\n",
        "        examples=[['The wine list is incredible and extensive and diverse , the food is all incredible and the staff was all very nice ,'\n",
        "                   ' good at their jobs and cultured .'],\n",
        "                  ['Though the menu includes some unorthodox offerings (a peanut butter roll, for instance), the classics are pure and '\n",
        "                   'great--we have never had better sushi anywhere, including Japan.'],\n",
        "                  ['Everything, from the soft bread, soggy salad, and 50 minute wait time, with an incredibly rude service to deliver'\n",
        "                   ' below average food .'],\n",
        "                  ['Even though it is running Snow Leopard, 2.4 GHz C2D is a bit of an antiquated CPU and thus the occasional spinning '\n",
        "                   'wheel would appear when running Office Mac applications such as Word or Excel .'],\n",
        "                  ],\n",
        "        outputs=\"dataframe\",\n",
        "        title='Aspect Term Extraction'\n",
        "    )\n",
        "\n",
        "    iface.launch()"
      ],
      "metadata": {
        "id": "hSK3GGv5OdGP"
      },
      "execution_count": null,
      "outputs": []
    }
  ]
}