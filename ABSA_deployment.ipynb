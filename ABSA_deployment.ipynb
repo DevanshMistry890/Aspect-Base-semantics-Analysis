{
  "nbformat": 4,
  "nbformat_minor": 0,
  "metadata": {
    "colab": {
      "provenance": []
    },
    "kernelspec": {
      "name": "python3",
      "display_name": "Python 3"
    },
    "language_info": {
      "name": "python"
    },
    "gpuClass": "standard"
  },
  "cells": [
    {
      "cell_type": "markdown",
      "source": [
        "# Aspect term extraction and sentiment classification"
      ],
      "metadata": {
        "id": "lCPYVEaPR4FP"
      }
    },
    {
      "cell_type": "markdown",
      "source": [
        "This Notebook is created and Run in colab by Devansh Mistry. Deployed on Gradio."
      ],
      "metadata": {
        "id": "0JPLnoAATFU5"
      }
    },
    {
      "cell_type": "markdown",
      "source": [
        "This Notebook is using [PyABSA](https://https://github.com/yangheng95/PyABSA) library, Citation"
      ],
      "metadata": {
        "id": "IqWIEfnPR8Aw"
      }
    },
    {
      "cell_type": "code",
      "source": [
        "@article{YangL22,\n",
        "  author    = {Heng Yang and\n",
        "               Ke Li},\n",
        "  title     = {PyABSA: Open Framework for Aspect-based Sentiment Analysis},\n",
        "  journal   = {CoRR},\n",
        "  volume    = {abs/2208.01368},\n",
        "  year      = {2022},\n",
        "  url       = {https://doi.org/10.48550/arXiv.2208.01368},\n",
        "  doi       = {10.48550/arXiv.2208.01368},\n",
        "  eprinttype = {arXiv},\n",
        "  eprint    = {2208.01368},\n",
        "  timestamp = {Tue, 08 Nov 2022 21:46:32 +0100},\n",
        "  biburl    = {https://dblp.org/rec/journals/corr/abs-2208-01368.bib},\n",
        "  bibsource = {dblp computer science bibliography, https://dblp.org}\n",
        "}"
      ],
      "metadata": {
        "id": "3hCB7cuRSpVb"
      },
      "execution_count": null,
      "outputs": []
    },
    {
      "cell_type": "code",
      "execution_count": null,
      "metadata": {
        "id": "9Ym1udq8JWzp"
      },
      "outputs": [],
      "source": [
        "! pip install pyabsa==1.16.27 "
      ]
    },
    {
      "cell_type": "code",
      "source": [
        "from pyabsa import available_checkpoints\n",
        "checkpoint_map = available_checkpoints('atepc', show_ckpts=True)"
      ],
      "metadata": {
        "id": "92jev5WDJ_o2"
      },
      "execution_count": null,
      "outputs": []
    },
    {
      "cell_type": "code",
      "source": [
        "from pyabsa import ABSADatasetList\n",
        "from pyabsa import ATEPCCheckpointManager\n",
        "\n",
        "aspect_extractor = ATEPCCheckpointManager.get_aspect_extractor(checkpoint='english',\n",
        "                                   auto_device=False  # False means load model on CPU\n",
        "                                   )"
      ],
      "metadata": {
        "id": "73WIoutjKeMa"
      },
      "execution_count": null,
      "outputs": []
    },
    {
      "cell_type": "markdown",
      "source": [
        "#Inference"
      ],
      "metadata": {
        "id": "lwMwU7FDFhVN"
      }
    },
    {
      "cell_type": "code",
      "source": [
        "#indvidual\n",
        "examples = ['But the staff was so perfect to us, but the service was bad .',\n",
        "            ]\n",
        "inference_source = examples\n",
        "atepc_result = aspect_extractor.extract_aspect(inference_source=inference_source,  #\n",
        "                          save_result=True,\n",
        "                          print_result=True,  # print the result\n",
        "                          pred_sentiment=True,  # Predict the sentiment of extracted aspect terms\n",
        "                          )"
      ],
      "metadata": {
        "id": "M5lSA6NlJlQY"
      },
      "execution_count": null,
      "outputs": []
    },
    {
      "cell_type": "code",
      "source": [
        "inference_source = ABSADatasetList.SemEval\n",
        "atepc_result = aspect_extractor.extract_aspect(inference_source=inference_source,  #\n",
        "                          save_result=True,\n",
        "                          print_result=True,  # print the result\n",
        "                          pred_sentiment=True,  # Predict the sentiment of extracted aspect terms\n",
        "                          )"
      ],
      "metadata": {
        "id": "ns0u3KBARQHD"
      },
      "execution_count": null,
      "outputs": []
    },
    {
      "cell_type": "markdown",
      "source": [
        "# Traning on DATA"
      ],
      "metadata": {
        "id": "--APQFyGFeGi"
      }
    },
    {
      "cell_type": "code",
      "source": [
        "import os\n",
        "\n",
        "import findfile\n",
        "\n",
        "from pyabsa.functional import ATEPCModelList\n",
        "from pyabsa.functional import Trainer, ATEPCTrainer\n",
        "from pyabsa.functional import ABSADatasetList\n",
        "from pyabsa.functional import ATEPCConfigManager\n",
        "from pyabsa.functional.dataset import DatasetItem\n",
        "\n",
        "atepc_config = ATEPCConfigManager.get_atepc_config_english()\n",
        "\n",
        "atepc_config.pretrained_bert = 'yangheng/deberta-v3-base-absa-v1.1'\n",
        "atepc_config.model = ATEPCModelList.FAST_LCF_ATEPC\n",
        "dataset_path = ABSADatasetList.Restaurant14\n",
        "# dataset_path = ' local dataset path'\n",
        "\n",
        "aspect_extractor = ATEPCTrainer(config=atepc_config,\n",
        "                  dataset=dataset_path,\n",
        "                  from_checkpoint='',  # set checkpoint to train on the checkpoint.\n",
        "                  checkpoint_save_mode=1,\n",
        "                  auto_device=True\n",
        "                  ).load_trained_model()"
      ],
      "metadata": {
        "id": "k9VS0qBhErhS"
      },
      "execution_count": null,
      "outputs": []
    },
    {
      "cell_type": "markdown",
      "source": [
        "\n",
        "\n",
        "---\n",
        "\n",
        "# Deployment"
      ],
      "metadata": {
        "id": "7Kc86I9cRa62"
      }
    },
    {
      "cell_type": "code",
      "source": [
        "! pip install gradio"
      ],
      "metadata": {
        "id": "VayO9H_SM5hu"
      },
      "execution_count": null,
      "outputs": []
    },
    {
      "cell_type": "code",
      "source": [
        "import gradio as gr\n",
        "import pandas as pd"
      ],
      "metadata": {
        "id": "rLsqmhDAOX4T"
      },
      "execution_count": null,
      "outputs": []
    },
    {
      "cell_type": "code",
      "source": [
        "def inference(text):\n",
        "    result = aspect_extractor.extract_aspect(inference_source=[text],\n",
        "                                             pred_sentiment=True)\n",
        "\n",
        "    result = pd.DataFrame({\n",
        "        'aspect': result[0]['aspect'],\n",
        "        'sentiment': result[0]['sentiment']\n",
        "    })\n",
        "\n",
        "    return result"
      ],
      "metadata": {
        "id": "GGIqWTWWObIr"
      },
      "execution_count": null,
      "outputs": []
    },
    {
      "cell_type": "code",
      "source": [
        "if __name__ == '__main__':\n",
        "    iface = gr.Interface(\n",
        "        fn=inference,\n",
        "        inputs=[\"text\"],\n",
        "        examples=[['The wine list is incredible and extensive and diverse , the food is all incredible and the staff was all very nice ,'\n",
        "                   ' good at their jobs and cultured .'],\n",
        "                  ['Though the menu includes some unorthodox offerings (a peanut butter roll, for instance), the classics are pure and '\n",
        "                   'great--we have never had better sushi anywhere, including Japan.'],\n",
        "                  ['Everything, from the soft bread, soggy salad, and 50 minute wait time, with an incredibly rude service to deliver'\n",
        "                   ' below average food .'],\n",
        "                  ['Even though it is running Snow Leopard, 2.4 GHz C2D is a bit of an antiquated CPU and thus the occasional spinning '\n",
        "                   'wheel would appear when running Office Mac applications such as Word or Excel .'],\n",
        "                  ['This demo is trained on the laptop and restaurant and other review datasets from ABSADatasets (https://github.com/yangheng95/ABSADatasets)'],\n",
        "                  ['To fit on your data, please train the model on your own data, see the PyABSA (https://github.com/yangheng95/PyABSA)'],\n",
        "                  ],\n",
        "        outputs=\"dataframe\",\n",
        "        title='Aspect Term Extraction for Short Texts (powered by PyABSA)'\n",
        "    )\n",
        "\n",
        "    iface.launch()"
      ],
      "metadata": {
        "id": "hSK3GGv5OdGP"
      },
      "execution_count": null,
      "outputs": []
    }
  ]
}